{
 "cells": [
  {
   "cell_type": "code",
   "execution_count": null,
   "metadata": {
    "vscode": {
     "languageId": "plaintext"
    }
   },
   "outputs": [],
   "source": [
    "import pandas as pd"
   ]
  },
  {
   "cell_type": "code",
   "execution_count": null,
   "metadata": {
    "vscode": {
     "languageId": "plaintext"
    }
   },
   "outputs": [],
   "source": [
    "df = pd.read_csv('c:/users/admin/ps4/vehicles_us.csv')"
   ]
  },
  {
   "cell_type": "code",
   "execution_count": null,
   "metadata": {
    "vscode": {
     "languageId": "plaintext"
    }
   },
   "outputs": [],
   "source": [
    "# Handle missing values\n",
    "df = df.dropna(subset=['model_year', 'cylinders', 'odometer'])\n",
    "df['paint_color'] = df['paint_color'].fillna('unknown')\n",
    "df['is_4wd'] = df['is_4wd'].fillna(0).astype(bool)  # Convert to boolean\n",
    "\n",
    "# Convert 'date_posted' to datetime\n",
    "df['date_posted'] = pd.to_datetime(df['date_posted'])"
   ]
  }
 ],
 "metadata": {
  "language_info": {
   "name": "python"
  }
 },
 "nbformat": 4,
 "nbformat_minor": 2
}
